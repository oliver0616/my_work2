{
 "cells": [
  {
   "cell_type": "markdown",
   "metadata": {},
   "source": [
    "# Word-Sense Disambiguation <br>\n",
    "\n",
    "### Lesk Algorithm <br>\n",
    "Using nltk package, wsd import lesk function, using lesk algorithm combine with wordnet"
   ]
  },
  {
   "cell_type": "code",
   "execution_count": 37,
   "metadata": {},
   "outputs": [
    {
     "name": "stdout",
     "output_type": "stream",
     "text": [
      "Synset('bank.n.01') sloping land (especially the slope beside a body of water)\n",
      "Synset('depository_financial_institution.n.01') a financial institution that accepts deposits and channels the money into lending activities\n",
      "Synset('bank.n.03') a long ridge or pile\n",
      "Synset('bank.n.04') an arrangement of similar objects in a row or in tiers\n",
      "Synset('bank.n.05') a supply or stock held in reserve for future use (especially in emergencies)\n",
      "Synset('bank.n.06') the funds held by a gambling house or the dealer in some gambling games\n",
      "Synset('bank.n.07') a slope in the turn of a road or track; the outside is higher than the inside in order to reduce the effects of centrifugal force\n",
      "Synset('savings_bank.n.02') a container (usually with a slot in the top) for keeping money at home\n",
      "Synset('bank.n.09') a building in which the business of banking transacted\n",
      "Synset('bank.n.10') a flight maneuver; aircraft tips laterally about its longitudinal axis (especially in turning)\n",
      "Synset('bank.v.01') tip laterally\n",
      "Synset('bank.v.02') enclose with a bank\n",
      "Synset('bank.v.03') do business with a bank or keep an account at a bank\n",
      "Synset('bank.v.04') act as the banker in a game or in gambling\n",
      "Synset('bank.v.05') be in the banking business\n",
      "Synset('deposit.v.02') put into a bank account\n",
      "Synset('bank.v.07') cover with ashes so to control the rate of burning\n",
      "Synset('trust.v.01') have confidence or faith in\n",
      "\n",
      "Sent1: a container (usually with a slot in the top) for keeping money at home\n",
      "Sent2: a container (usually with a slot in the top) for keeping money at home\n",
      "Sent3: a slope in the turn of a road or track; the outside is higher than the inside in order to reduce the effects of centrifugal force\n"
     ]
    }
   ],
   "source": [
    "from nltk.wsd import lesk\n",
    "from nltk.corpus import wordnet\n",
    "\n",
    "sent1 = \"The bank will not be accepting cash on Saturdays\"\n",
    "sent2 = \"The river overflowed the bank.\"\n",
    "sent3 = \"The river bank is full of people\"\n",
    "ambiguous = \"bank\"\n",
    "\n",
    "for ss in wordnet.synsets(ambiguous):\n",
    "    print(ss, ss.definition())\n",
    "print()\n",
    "print(\"Sent1: \"+lesk(sent1.split(), ambiguous,'n').definition())\n",
    "print(\"Sent2: \"+lesk(sent2.split(), ambiguous,'n').definition())\n",
    "print(\"Sent3: \"+lesk(sent3.split(), ambiguous,'n').definition())"
   ]
  },
  {
   "cell_type": "markdown",
   "metadata": {},
   "source": [
    "Using Classic Lesk algorithm approach can be really unaccurate sometimes, we can see that from the above example even sentence 2 and 3 has the same meaning but only the third sentence get the correct definition"
   ]
  },
  {
   "cell_type": "markdown",
   "metadata": {},
   "source": [
    "Check the input setences word by word and compare them in the wordnet and see which definition has highest common words. The highest count defintion would be return as the answer"
   ]
  },
  {
   "cell_type": "markdown",
   "metadata": {},
   "source": [
    "### Similarity-Based \n",
    "Using nltk package, pywsd package and wordnet"
   ]
  },
  {
   "cell_type": "code",
   "execution_count": 47,
   "metadata": {},
   "outputs": [
    {
     "name": "stdout",
     "output_type": "stream",
     "text": [
      "\n",
      "Sent1: a container (usually with a slot in the top) for keeping money at home\n",
      "Sent2: a container (usually with a slot in the top) for keeping money at home\n",
      "Sent3: a container (usually with a slot in the top) for keeping money at home\n"
     ]
    }
   ],
   "source": [
    "from pywsd import similarity\n",
    "\n",
    "sent1 = \"The bank will not be accepting cash on Saturdays\"\n",
    "sent2 = \"The river overflowed the bank.\"\n",
    "sent3 = \"The river bank is full of people\"\n",
    "ambiguous = \"bank\"\n",
    "\n",
    "print()\n",
    "print(\"Sent1: \"+similarity.max_similarity(sent1, ambiguous,pos='n',option=\"lin\").definition())\n",
    "print(\"Sent2: \"+similarity.max_similarity(sent2, ambiguous,pos='n',option=\"lin\").definition())\n",
    "print(\"Sent3: \"+similarity.max_similarity(sent3, ambiguous,pos='n',option=\"lin\").definition())"
   ]
  },
  {
   "cell_type": "markdown",
   "metadata": {},
   "source": [
    "The max_similarity funtion perform WSD by maximizing the sum of maximum similarity between possible synsets of all words in the context sentence and the possible synsets of the ambiguous words <br>\n",
    "$${argmax}_{synset(a)}(\\sum_{i}^{n}{{max}_{synset(i)}(sim(i,a))}$$"
   ]
  },
  {
   "cell_type": "markdown",
   "metadata": {},
   "source": []
  },
  {
   "cell_type": "code",
   "execution_count": null,
   "metadata": {},
   "outputs": [],
   "source": []
  }
 ],
 "metadata": {
  "kernelspec": {
   "display_name": "Python 3",
   "language": "python",
   "name": "python3"
  },
  "language_info": {
   "codemirror_mode": {
    "name": "ipython",
    "version": 3
   },
   "file_extension": ".py",
   "mimetype": "text/x-python",
   "name": "python",
   "nbconvert_exporter": "python",
   "pygments_lexer": "ipython3",
   "version": "3.6.5"
  }
 },
 "nbformat": 4,
 "nbformat_minor": 2
}
