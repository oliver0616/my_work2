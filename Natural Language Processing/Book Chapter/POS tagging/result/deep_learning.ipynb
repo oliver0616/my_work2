{
 "cells": [
  {
   "cell_type": "markdown",
   "metadata": {},
   "source": [
    "# Deep Learning Part of Speech Tagger <br>\n",
    "Using Keras and Tensorflow to create feedforward nueral network, using Penn Treebank as corpus  <br>\n",
    "## Functions <br>\n",
    "Imports:\n"
   ]
  },
  {
   "cell_type": "code",
   "execution_count": 1,
   "metadata": {},
   "outputs": [
    {
     "name": "stderr",
     "output_type": "stream",
     "text": [
      "Using TensorFlow backend.\n"
     ]
    }
   ],
   "source": [
    "import random\n",
    "import nltk\n",
    "from nltk.corpus import treebank\n",
    "import numpy as np\n",
    "from sklearn.feature_extraction import DictVectorizer\n",
    "from sklearn.preprocessing import LabelEncoder\n",
    "from keras.layers import Dense, Dropout, Activation\n",
    "from keras.models import Sequential\n",
    "from keras.utils import np_utils, plot_model\n",
    "from keras.wrappers.scikit_learn import KerasClassifier\n",
    "import matplotlib.pyplot as plt\n",
    "from matplotlib.ticker import MaxNLocator\n",
    "CUSTOM_SEED = 42"
   ]
  },
  {
   "cell_type": "markdown",
   "metadata": {},
   "source": [
    "Basic features to feed in nueral network"
   ]
  },
  {
   "cell_type": "code",
   "execution_count": 2,
   "metadata": {},
   "outputs": [],
   "source": [
    "def add_basic_features(sentence_terms, index):\n",
    "    term = sentence_terms[index]\n",
    "    return {\n",
    "        'nb_terms': len(sentence_terms),\n",
    "        'term': term,\n",
    "        'is_first': index == 0,\n",
    "        'is_last': index == len(sentence_terms) - 1,\n",
    "        'is_capitalized': term[0].upper() == term[0],\n",
    "        'is_all_caps': term.upper() == term,\n",
    "        'is_all_lower': term.lower() == term,\n",
    "        'prefix-1': term[0],\n",
    "        'prefix-2': term[:2],\n",
    "        'prefix-3': term[:3],\n",
    "        'suffix-1': term[-1],\n",
    "        'suffix-2': term[-2:],\n",
    "        'suffix-3': term[-3:],\n",
    "        'prev_word': '' if index == 0 else sentence_terms[index - 1],\n",
    "        'next_word': '' if index == len(sentence_terms) - 1 else sentence_terms[index + 1]\n",
    "    }"
   ]
  },
  {
   "cell_type": "markdown",
   "metadata": {},
   "source": [
    "Untag the sentence and return just the words"
   ]
  },
  {
   "cell_type": "code",
   "execution_count": 3,
   "metadata": {},
   "outputs": [],
   "source": [
    "def untag(tagged_sentence):\n",
    "    return [w for w, _ in tagged_sentence]"
   ]
  },
  {
   "cell_type": "markdown",
   "metadata": {},
   "source": [
    "Return list of basic feature in x and return list of all tags in y"
   ]
  },
  {
   "cell_type": "code",
   "execution_count": 4,
   "metadata": {},
   "outputs": [],
   "source": [
    "def transform_to_dataset(tagged_sentences):\n",
    "    X, y = [], []\n",
    "    for pos_tags in tagged_sentences:\n",
    "        for index, (term, class_) in enumerate(pos_tags):\n",
    "            # Add basic NLP features for each sentence term\n",
    "            X.append(add_basic_features(untag(pos_tags), index))\n",
    "            y.append(class_)\n",
    "    return X, y"
   ]
  },
  {
   "cell_type": "markdown",
   "metadata": {},
   "source": [
    "Construct, compile and return the keras model <br>\n",
    "sequential model allow user to construct easily that simply create each layer one by one <br>\n",
    "Dropout regularization prevent overfitting, in our case its 20%"
   ]
  },
  {
   "cell_type": "code",
   "execution_count": 5,
   "metadata": {},
   "outputs": [],
   "source": [
    "def build_model(input_dim, hidden_neurons, output_dim):\n",
    "    model = Sequential([\n",
    "        Dense(hidden_neurons, input_dim=input_dim),\n",
    "        Activation('relu'),\n",
    "        Dropout(0.2),\n",
    "        Dense(hidden_neurons),\n",
    "        Activation('relu'),\n",
    "        Dropout(0.2),\n",
    "        Dense(output_dim, activation='softmax')\n",
    "    ])\n",
    "    print(model.summary())\n",
    "    model.compile(loss='categorical_crossentropy', optimizer='adam', metrics=['accuracy'])\n",
    "    return model"
   ]
  },
  {
   "cell_type": "markdown",
   "metadata": {},
   "source": [
    "Create a plot that show model performence accuracy and loss through out epochs"
   ]
  },
  {
   "cell_type": "code",
   "execution_count": 6,
   "metadata": {},
   "outputs": [],
   "source": [
    "def plot_model_performance(train_loss, train_acc, train_val_loss, train_val_acc):\n",
    "    green = '#72C29B'\n",
    "    orange = '#FFA577'\n",
    "    fig, (ax1, ax2) = plt.subplots(2, figsize=(10, 8))\n",
    "    ax1.plot(range(1, len(train_loss) + 1), train_loss, green, linewidth=1,\n",
    "             label='training')\n",
    "    ax1.plot(range(1, len(train_val_loss) + 1), train_val_loss, orange,\n",
    "            linewidth=1, label='validation')\n",
    "    ax1.set_xlabel('Number Of Epoch')\n",
    "    ax1.set_ylabel('Loss')\n",
    "    ax1.xaxis.set_major_locator(MaxNLocator(integer=True))\n",
    "    ax1.tick_params('y')\n",
    "    ax1.legend(loc='upper right', shadow=False)\n",
    "    ax2.plot(range(1, len(train_acc) + 1), train_acc, green, linewidth=1,\n",
    "             label='training')\n",
    "    ax2.plot(range(1, len(train_val_acc) + 1), train_val_acc, orange,\n",
    "             linewidth=1, label='validation')\n",
    "    ax2.set_xlabel('Number of Epoch')\n",
    "    ax2.set_ylabel('Accuracy')\n",
    "    ax2.xaxis.set_major_locator(MaxNLocator(integer=True))\n",
    "    ax2.tick_params('y')\n",
    "    ax2.legend(loc='lower right', shadow=False)\n",
    "    \n",
    "    plt.tight_layout()\n",
    "    plt.savefig('plot.png')\n",
    "    plt.show()"
   ]
  },
  {
   "cell_type": "markdown",
   "metadata": {},
   "source": [
    "## Main\n",
    "Use nltk Penn Treebank corpus, store all tags"
   ]
  },
  {
   "cell_type": "code",
   "execution_count": 7,
   "metadata": {},
   "outputs": [],
   "source": [
    "np.random.seed(CUSTOM_SEED)\n",
    "sentences = treebank.tagged_sents(tagset='universal')\n",
    "tags = set([tag for sentence in treebank.tagged_sents() for _, tag in sentence])"
   ]
  },
  {
   "cell_type": "markdown",
   "metadata": {},
   "source": [
    "Seperate the data into Train set 60%, validation set 20% and Test set 20%. "
   ]
  },
  {
   "cell_type": "code",
   "execution_count": 8,
   "metadata": {},
   "outputs": [],
   "source": [
    "train_test_cutoff = int(.80 * len(sentences))\n",
    "training_sentences = sentences[:train_test_cutoff]\n",
    "testing_sentences = sentences[train_test_cutoff:]\n",
    "train_val_cutoff = int(.25 * len(training_sentences))\n",
    "validation_sentences = training_sentences[:train_val_cutoff]\n",
    "training_sentences = training_sentences[train_val_cutoff:]"
   ]
  },
  {
   "cell_type": "markdown",
   "metadata": {},
   "source": [
    "### Encoding <br>\n",
    "extract features and tags from the setences. X as input variables, y as output variables"
   ]
  },
  {
   "cell_type": "code",
   "execution_count": 9,
   "metadata": {},
   "outputs": [],
   "source": [
    "X_train, y_train = transform_to_dataset(training_sentences)\n",
    "X_test, y_test = transform_to_dataset(testing_sentences)\n",
    "X_val, y_val = transform_to_dataset(validation_sentences)"
   ]
  },
  {
   "cell_type": "markdown",
   "metadata": {},
   "source": [
    "fit DictVectorizer another word construct the DicVectorizer to vectorize the data later on"
   ]
  },
  {
   "cell_type": "code",
   "execution_count": 10,
   "metadata": {},
   "outputs": [
    {
     "data": {
      "text/plain": [
       "DictVectorizer(dtype=<class 'numpy.float64'>, separator='=', sort=True,\n",
       "        sparse=False)"
      ]
     },
     "execution_count": 10,
     "metadata": {},
     "output_type": "execute_result"
    }
   ],
   "source": [
    "dict_vectorizer = DictVectorizer(sparse=False)\n",
    "dict_vectorizer.fit(X_train + X_test + X_val)"
   ]
  },
  {
   "cell_type": "markdown",
   "metadata": {},
   "source": [
    "covert X train set, test set and x validation into numpy matrices"
   ]
  },
  {
   "cell_type": "code",
   "execution_count": 11,
   "metadata": {},
   "outputs": [],
   "source": [
    "X_train = dict_vectorizer.transform(X_train)\n",
    "X_test = dict_vectorizer.transform(X_test)\n",
    "X_val = dict_vectorizer.transform(X_val)"
   ]
  },
  {
   "cell_type": "markdown",
   "metadata": {},
   "source": [
    "fit LabelEncoder another word construct the LabelEncoder to vectorize the data later on"
   ]
  },
  {
   "cell_type": "code",
   "execution_count": 12,
   "metadata": {},
   "outputs": [
    {
     "data": {
      "text/plain": [
       "LabelEncoder()"
      ]
     },
     "execution_count": 12,
     "metadata": {},
     "output_type": "execute_result"
    }
   ],
   "source": [
    "label_encoder = LabelEncoder()\n",
    "label_encoder.fit(y_train + y_test + y_val)"
   ]
  },
  {
   "cell_type": "markdown",
   "metadata": {},
   "source": [
    "Encode class value as integers and convert integer to dummy variables, one hot encoded"
   ]
  },
  {
   "cell_type": "code",
   "execution_count": 13,
   "metadata": {},
   "outputs": [],
   "source": [
    "y_train = label_encoder.transform(y_train)\n",
    "y_test = label_encoder.transform(y_test)\n",
    "y_val = label_encoder.transform(y_val)\n",
    "\n",
    "y_train = np_utils.to_categorical(y_train)\n",
    "y_test = np_utils.to_categorical(y_test)\n",
    "y_val = np_utils.to_categorical(y_val)"
   ]
  },
  {
   "cell_type": "markdown",
   "metadata": {},
   "source": [
    "Declare parameters for the models"
   ]
  },
  {
   "cell_type": "code",
   "execution_count": 14,
   "metadata": {},
   "outputs": [],
   "source": [
    "model_params = {\n",
    "    'build_fn': build_model,\n",
    "    'input_dim': X_train.shape[1],\n",
    "    'hidden_neurons': 512,\n",
    "    'output_dim': y_train.shape[1],\n",
    "    'epochs': 5,\n",
    "    'batch_size': 256,\n",
    "    'verbose': 1,\n",
    "    'validation_data': (X_val, y_val),\n",
    "    'shuffle': True\n",
    "}"
   ]
  },
  {
   "cell_type": "markdown",
   "metadata": {},
   "source": [
    "create sklearn classifier and fit the classifier"
   ]
  },
  {
   "cell_type": "code",
   "execution_count": 15,
   "metadata": {},
   "outputs": [
    {
     "name": "stdout",
     "output_type": "stream",
     "text": [
      "_________________________________________________________________\n",
      "Layer (type)                 Output Shape              Param #   \n",
      "=================================================================\n",
      "dense_1 (Dense)              (None, 512)               22647296  \n",
      "_________________________________________________________________\n",
      "activation_1 (Activation)    (None, 512)               0         \n",
      "_________________________________________________________________\n",
      "dropout_1 (Dropout)          (None, 512)               0         \n",
      "_________________________________________________________________\n",
      "dense_2 (Dense)              (None, 512)               262656    \n",
      "_________________________________________________________________\n",
      "activation_2 (Activation)    (None, 512)               0         \n",
      "_________________________________________________________________\n",
      "dropout_2 (Dropout)          (None, 512)               0         \n",
      "_________________________________________________________________\n",
      "dense_3 (Dense)              (None, 12)                6156      \n",
      "=================================================================\n",
      "Total params: 22,916,108\n",
      "Trainable params: 22,916,108\n",
      "Non-trainable params: 0\n",
      "_________________________________________________________________\n",
      "None\n",
      "Train on 61107 samples, validate on 19530 samples\n",
      "Epoch 1/5\n",
      "61107/61107 [==============================] - 287s 5ms/step - loss: 0.3905 - acc: 0.8848 - val_loss: 0.1559 - val_acc: 0.9496\n",
      "Epoch 2/5\n",
      "61107/61107 [==============================] - 261s 4ms/step - loss: 0.0747 - acc: 0.9761 - val_loss: 0.1384 - val_acc: 0.9581\n",
      "Epoch 3/5\n",
      "61107/61107 [==============================] - 264s 4ms/step - loss: 0.0380 - acc: 0.9882 - val_loss: 0.1443 - val_acc: 0.9583\n",
      "Epoch 4/5\n",
      "61107/61107 [==============================] - 274s 4ms/step - loss: 0.0309 - acc: 0.9905 - val_loss: 0.1534 - val_acc: 0.9596\n",
      "Epoch 5/5\n",
      "61107/61107 [==============================] - 271s 4ms/step - loss: 0.0252 - acc: 0.9922 - val_loss: 0.1577 - val_acc: 0.9590\n"
     ]
    }
   ],
   "source": [
    "clf = KerasClassifier(**model_params)\n",
    "hist = clf.fit(X_train, y_train)"
   ]
  },
  {
   "cell_type": "markdown",
   "metadata": {},
   "source": [
    "plot the model performence <br>\n",
    "The loss is calculated on training and validation and its interperation is how well the model is doing for these two sets. <br>\n",
    "The accuracy of a model is usually determined after the model parameters are learned and fixed and no learning is taking place"
   ]
  },
  {
   "cell_type": "code",
   "execution_count": 16,
   "metadata": {},
   "outputs": [
    {
     "data": {
      "image/png": "[encoded data removed]",
      "text/plain": [
       "<Figure size 720x576 with 2 Axes>"
      ]
     },
     "metadata": {},
     "output_type": "display_data"
    }
   ],
   "source": [
    "plot_model_performance(\n",
    "    train_loss=hist.history.get('loss', []),\n",
    "    train_acc=hist.history.get('acc', []),\n",
    "    train_val_loss=hist.history.get('val_loss', []),\n",
    "    train_val_acc=hist.history.get('val_acc', [])\n",
    ")"
   ]
  },
  {
   "cell_type": "code",
   "execution_count": 17,
   "metadata": {},
   "outputs": [
    {
     "name": "stdout",
     "output_type": "stream",
     "text": [
      "model accuracy: 0.9682618893158341\n"
     ]
    }
   ],
   "source": [
    "plot_model(clf.model, to_file='model_structure.png', show_shapes=True)\n",
    "score = clf.score(X_test, y_test, verbose=0)\n",
    "print('model accuracy: {}'.format(score))"
   ]
  },
  {
   "cell_type": "markdown",
   "metadata": {},
   "source": [
    "## Architecture of the Multilayer perceptron and Parameters <br>\n",
    "Sequential model: The sequential model allow us to simply layout the structure of the nueral network <br>\n",
    "Multilayer Perceptron: Multilayer Perceptron is a class of feedforward network. The network use back-propagation algorithm to train the network <br> \n",
    "Rectified Linear Units: Activation function we are using is Rectified Linear Units (ReLU). <br>\n",
    "Dropout: The dropout allow us to prevent overfitting for the model and we would use 20% <br>\n",
    "Softmax Function: Softmax function convert k-dimension matrix outputs to probabilities, also known as normalized exponential function <br>\n",
    "Cross Entropy: measure performence of the classification model output is probability value between 0 and 1\n",
    "Adam Optimizer: used to update network weights iterate base on trainning data\n",
    "\n",
    "#### Recitified Linear Units(ReLU)"
   ]
  },
  {
   "cell_type": "markdown",
   "metadata": {},
   "source": [
    "$$f(x)=max(0,x)$$"
   ]
  },
  {
   "cell_type": "markdown",
   "metadata": {},
   "source": [
    "x: input to the neuron <br>\n",
    "when $x < 0$, output 0 <br>\n",
    "when $x \\geq 0$, output a linear function <br>\n",
    "![Relu.png](attachment:Relu.png)"
   ]
  },
  {
   "cell_type": "markdown",
   "metadata": {},
   "source": [
    "## Resources:\n",
    "\n",
    "-TIT Deep Learning Program Blog\n",
    "\n",
    "@online{\n",
    "  author = {Bellec, Axel},\n",
    "  title = {Part-of-Speech tagging tutorial with the Keras Deep Learning library - Cdiscount TechBlog},\n",
    "  year = {2017},\n",
    "  url = {https://techblog.cdiscount.com/part-speech-tagging-tutorial-keras-deep-learning-library/}\n",
    "}\n",
    "\n",
    "-TIT Encoding<br>\n",
    "<br>\n",
    "@article{potdar2017comparative,<br>\n",
    "  title={A Comparative Study of Categorical Variable Encoding Techniques for Neural Network Classifiers},<br>\n",
    "  author={Potdar, Kedar and Pardawala, T and Pai, C},<br>\n",
    "  journal={International Journal of Computer Applications},<br>\n",
    "  volume={175},<br>\n",
    "  number={4},<br>\n",
    "  pages={7--9},<br>\n",
    "  year={2017},<br>\n",
    "  abstract={In classification analysis, the dependent variable is frequently influenced not only by ratio scale variables, but also by qualitative (nominal scale) variables. Machine Learning algorithms accept only numerical inputs, hence, it is necessary to encode these categorical variables into numerical values using encoding techniques. This paper presents a comparative study of seven categorical variable encoding techniques to be used for classification using Artificial Neural Networks on a categorical dataset. The Car Evaluation dataset provided by UCI is used for training. Results show that the data encoded with Sum Coding and Backward Difference Coding technique give highest accuracy as compared to the data pre-processed by rest of the techniques.}<br>\n",
    "}<br>\n",
    "<br>\n",
    "-TIT Neural network model, multilayer perceptron<br>\n",
    "<br>\n",
    "@article{hornik1991approximation,<br>\n",
    "  title={Approximation capabilities of multilayer feedforward networks},<br>\n",
    "  author={Hornik, Kurt},<br>\n",
    "  journal={Neural networks},<br>\n",
    "  volume={4},<br>\n",
    "  number={2},<br>\n",
    "  pages={251--257},<br>\n",
    "  year={1991},<br>\n",
    "  publisher={Elsevier}<br>\n",
    "  abstract={We show that standard multilayer feedforward networks with as few as a single hidden layer and<br>\n",
    "arbitrary bounded and nonconstant activation function are universal approximators with respect to V(p.) performance<br>\n",
    "criteria, for arbitrary finite input environment measures Jl., provided only that sufficiently many hidden<br>\n",
    "units are available. If the activation function is continuous, bounded and nonconstant, then continuous mappings<br>\n",
    "can be learned uniformly over compact input sets. We also give very general conditions ensuring that networks<br>\n",
    "with sufficiently smooth activation functions are capable of arbitrarily accurate approximation to a function and<br>\n",
    "its derivatives.}<br>\n",
    "}<br>\n",
    "<br>\n",
    "@article{hornik1989multilayer,<br>\n",
    "  title={Multilayer feedforward networks are universal approximators},<br>\n",
    "  author={Hornik, Kurt and Stinchcombe, Maxwell and White, Halbert},<br>\n",
    "  journal={Neural networks},<br>\n",
    "  volume={2},<br>\n",
    "  number={5},<br>\n",
    "  pages={359--366},<br>\n",
    "  year={1989},<br>\n",
    "  publisher={Elsevier},<br>\n",
    "  abstract={is paper rigorously establishes thut standard rnultiluyer feedforward networks with as f&v us one hidden layer using arbitrary squashing functions ure capable of upproximating uny Bore1 measurable function from one finite dimensional space to another to any desired degree of uccuracy, provided sujficirntly muny hidden units are available. In this sense, multilayer feedforward networks are u class of universul rlpproximators}<br>\n",
    "}<br>\n",
    "<br>\n",
    "-TIT ReLU<br>\n",
    "<br>\n",
    "@article{DBLP:journals/corr/abs-1803-08375,<br>\n",
    "  author    = {Abien Fred Agarap},<br>\n",
    "  title     = {Deep Learning using Rectified Linear Units (ReLU)},<br>\n",
    "  journal   = {CoRR},<br>\n",
    "  volume    = {abs/1803.08375},<br>\n",
    "  year      = {2018},<br>\n",
    "  url       = {http://arxiv.org/abs/1803.08375},<br>\n",
    "  archivePrefix = {arXiv},<br>\n",
    "  eprint    = {1803.08375},<br>\n",
    "  timestamp = {Wed, 11 Apr 2018 11:12:46 +0200},<br>\n",
    "  biburl    = {https://dblp.org/rec/bib/journals/corr/abs-1803-08375},<br>\n",
    "  bibsource = {dblp computer science bibliography, https://dblp.org},<br>\n",
    "  abstract = {Weintroducetheuseofrectifiedlinearunits(ReLU)astheclassificationfunctioninadeepneuralnetwork(DNN).Conventionally, ReLU is used as an activation function in DNNs, with Softmax functionastheirclassificationfunction.However,therehavebeen severalstudiesonusingaclassificationfunctionotherthanSoftmax, and this study is an addition to those. We accomplish this by taking the activation of the penultimate layer hn-1 in a neural network, then multiply it by weight parameters ? to get the rawscoresoi.Afterwards,wethresholdtherawscoresoi by0,i.e. f(o) = max(0,oi), where f(o)is the ReLU function. We provide classpredictions ˆ y throughargmaxfunction,i.e.argmax f(x).}<br>\n",
    "}<br>\n",
    "<br>\n",
    "-TIT Cross-Entropy<br>\n",
    "<br>\n",
    "@inproceedings{Mannor:2005:CEM:1102351.1102422,<br>\n",
    " author = {Mannor, Shie and Peleg, Dori and Rubinstein, Reuven},<br>\n",
    " title = {The Cross Entropy Method for Classification},<br>\n",
    " booktitle = {Proceedings of the 22Nd International Conference on Machine Learning},<br>\n",
    " series = {ICML '05},<br>\n",
    " year = {2005},<br>\n",
    " isbn = {1-59593-180-5},<br>\n",
    " location = {Bonn, Germany},<br>\n",
    " pages = {561--568},<br>\n",
    " numpages = {8},<br>\n",
    " url = {http://doi.acm.org/10.1145/1102351.1102422},<br>\n",
    " doi = {10.1145/1102351.1102422},<br>\n",
    " acmid = {1102422},<br>\n",
    " publisher = {ACM},<br>\n",
    " address = {New York, NY, USA},<br>\n",
    " abstract = {We consider support vector machines for binary classi?cation. As opposed to most approaches we use the number of support vectors (the “L0 norm”) as a regularizing term instead of the L1 or L2 norms. In order to solve the optimization problem we use the cross entropy method to search over the possible sets of support vectors. The algorithm consists of solving a sequence of e?cient linear programs. We report experiments where our method produces generalization errors that are similar to support vector machines, while using a considerably smaller number of support vectors.}<br>\n",
    "}<br>\n",
    "<br>\n",
    "-TIT AdamOptimizer<br>\n",
    "<br>\n",
    "@article{DBLP:journals/corr/KingmaB14,<br>\n",
    "  author    = {Diederik P. Kingma and<br>\n",
    "               Jimmy Ba},<br>\n",
    "  title     = {Adam: Method for Stochastic Optimization},<br>\n",
    "  journal   = {CoRR},<br>\n",
    "  volume    = {abs/1412.6980},<br>\n",
    "  year      = {2014},<br>\n",
    "  url       = {http://arxiv.org/abs/1412.6980},<br>\n",
    "  archivePrefix = {arXiv},<br>\n",
    "  eprint    = {1412.6980},<br>\n",
    "  timestamp = {Wed, 07 Jun 2017 14:40:52 +0200},<br>\n",
    "  biburl    = {https://dblp.org/rec/bib/journals/corr/KingmaB14},<br>\n",
    "  bibsource = {dblp computer science bibliography, https://dblp.org},<br>\n",
    "  abstract = {We introduce Adam, an algorithm for ?rst-order gradient-based optimization of stochastic objective functions, based on adaptive estimates of lower-order moments. The method is straightforward to implement, is computationally ef?cient, haslittlememoryrequirements,isinvarianttodiagonalrescalingofthegradients, and is well suited for problems that are large in terms of data and/or parameters. The method is also appropriate for non-stationary objectives and problems with very noisy and/or sparse gradients. The hyper-parameters have intuitive interpretationsandtypicallyrequirelittletuning. Someconnectionstorelatedalgorithms, on which Adam was inspired, are discussed. We also analyze the theoretical convergence properties of the algorithm and provide a regret bound on the convergence rate that is comparable to the best known results under the online convex optimization framework. Empirical results demonstrate that Adam works well in practiceandcomparesfavorablytootherstochasticoptimizationmethods. Finally, we discuss AdaMax, a variant of Adam based on the in?nity norm.}<br>\n",
    "}<br>\n",
    "<br>\n",
    "-TIT Overfitting<br>\n",
    "<br>\n",
    "@article{DBLP:journals/corr/abs-1207-0580,<br>\n",
    "  author    = {Geoffrey E. Hinton and<br>\n",
    "               Nitish Srivastava and<br>\n",
    "               Alex Krizhevsky and<br>\n",
    "               Ilya Sutskever and<br>\n",
    "               Ruslan Salakhutdinov},<br>\n",
    "  title     = {Improving neural networks by preventing co-adaptation of feature detectors},<br>\n",
    "  journal   = {CoRR},<br>\n",
    "  volume    = {abs/1207.0580},<br>\n",
    "  year      = {2012},<br>\n",
    "  url       = {http://arxiv.org/abs/1207.0580},<br>\n",
    "  archivePrefix = {arXiv},<br>\n",
    "  eprint    = {1207.0580},<br>\n",
    "  timestamp = {Wed, 07 Jun 2017 14:40:12 +0200},<br>\n",
    "  biburl    = {https://dblp.org/rec/bib/journals/corr/abs-1207-0580},<br>\n",
    "  bibsource = {dblp computer science bibliography, https://dblp.org},<br>\n",
    "  abstract = {When a large feedforward neural network is trained on a small training set, ittypicallyperformspoorlyonheld-outtestdata. This“over?tting”isgreatly reduced by randomly omitting half of the feature detectors on each training case. Thispreventscomplexco-adaptationsinwhichafeaturedetectorisonly helpful in the context of several other speci?c feature detectors. Instead, each neuron learns to detect a feature that is generally helpful for producing the correct answer given the combinatorially large variety of internal contexts in which it must operate. Random “dropout” gives big improvements on many benchmarktasksandsetsnewrecordsforspeechandobjectrecognition.}<br>\n",
    "}<br>\n",
    "<br>\n",
    "@article{srivastava2014dropout,<br>\n",
    "  title={Dropout: a simple way to prevent neural networks from overfitting},<br>\n",
    "  author={Srivastava, Nitish and Hinton, Geoffrey and Krizhevsky, Alex and Sutskever, Ilya and Salakhutdinov, Ruslan},<br>\n",
    "  journal={The Journal of Machine Learning Research},<br>\n",
    "  volume={15},<br>\n",
    "  number={1},<br>\n",
    "  pages={1929--1958},<br>\n",
    "  year={2014},<br>\n",
    "  publisher={JMLR. org},<br>\n",
    "  abstract = {Deep neural nets with a large number of parameters are very powerful machine learning systems. However, over?tting is a serious problem in such networks. Large networks are also slow to use, making it di?cult to deal with over?tting by combining the predictions of many di?erent large neural nets at test time. Dropout is a technique for addressing this problem. The key idea is to randomly drop units (along with their connections) from the neural network during training. This prevents units from co-adapting too much. During training, dropout samples from an exponential number of di?erent “thinned” networks. At test time, it is easy to approximate the e?ect of averaging the predictions of all these thinned networks by simply using a single unthinned network that has smaller weights. This signi?cantly reduces over?tting and gives major improvements over other regularization methods. We show that dropout improves the performance of neural networks on supervised learning tasks in vision, speech recognition, document classi?cation and computational biology, obtaining state-of-the-art results on many benchmark data sets.}<br>\n",
    "}<br>\n",
    "<br>\n",
    "-TIT backgrounds<br>\n",
    "@inproceedings{Schmid:1994:PTN:991886.991915,<br>\n",
    " author = {Schmid, Helmut},<br>\n",
    " title = {Part-of-speech Tagging with Neural Networks},<br>\n",
    " booktitle = {Proceedings of the 15th Conference on Computational Linguistics - Volume 1},<br>\n",
    " series = {COLING '94},<br>\n",
    " year = {1994},<br>\n",
    " location = {Kyoto, Japan},<br>\n",
    " pages = {172--176},<br>\n",
    " numpages = {5},<br>\n",
    " url = {https://doi.org/10.3115/991886.991915},<br>\n",
    " doi = {10.3115/991886.991915},<br>\n",
    " acmid = {991915},<br>\n",
    " publisher = {Association for Computational Linguistics},<br>\n",
    " address = {Stroudsburg, PA, USA},<br>\n",
    " abstract = {Text corpora which are tagged with part-of-speech in- formation are useful in many areas of linguistic re- search. In this paper, a new part-of-speech tagging method hased on neural networks (Net-Tagger) is pre- sented and its performance is compared to that of a llMM-tagger (Cutting et al., 1992) and a trigram- based tagger (Kempe, 1993). It is shown that the Net-Tagger performs as well as the trigram-based tag- ger and better than the iIMM-tagger.}<br>\n",
    "}<br>\n",
    "<br>\n",
    "@article{DBLP:journals/corr/WangQSHZ15,<br>\n",
    "  author    = {Peilu Wang and<br>\n",
    "               Yao Qian and<br>\n",
    "               Frank K. Soong and<br>\n",
    "               Lei He and<br>\n",
    "               Hai Zhao},<br>\n",
    "  title     = {Part-of-Speech Tagging with Bidirectional Long Short-Term Memory Recurrent<br>\n",
    "               Neural Network},<br>\n",
    "  journal   = {CoRR},<br>\n",
    "  volume    = {abs/1510.06168},<br>\n",
    "  year      = {2015},<br>\n",
    "  url       = {http://arxiv.org/abs/1510.06168},<br>\n",
    "  archivePrefix = {arXiv},<br>\n",
    "  eprint    = {1510.06168},<br>\n",
    "  timestamp = {Wed, 07 Jun 2017 14:42:12 +0200},<br>\n",
    "  biburl    = {https://dblp.org/rec/bib/journals/corr/WangQSHZ15},<br>\n",
    "  bibsource = {dblp computer science bibliography, https://dblp.org},<br>\n",
    "  abstract  = {Bidirectional Long Short-Term Memory Recurrent Neural Network (BLSTMRNN) has been shown to be very effective for tagging sequential data, e.g. speech utterances or handwritten documents. While word embedding has been demoed as a powerful representation for characterizing the statistical properties of natural language. In this study, we propose to use BLSTM-RNN with word embedding for part-of-speech (POS) tagging task. When tested on Penn Treebank WSJ test set, a state-of-the-art performance of 97.40 tagging accuracy is achieved. Without using morphological features, this approach can also achieve a good performance comparable with the Stanford POS tagger.}<br>\n",
    "}<br>"
   ]
  },
  {
   "cell_type": "markdown",
   "metadata": {},
   "source": []
  }
 ],
 "metadata": {
  "kernelspec": {
   "display_name": "Python 3",
   "language": "python",
   "name": "python3"
  },
  "language_info": {
   "codemirror_mode": {
    "name": "ipython",
    "version": 3
   },
   "file_extension": ".py",
   "mimetype": "text/x-python",
   "name": "python",
   "nbconvert_exporter": "python",
   "pygments_lexer": "ipython3",
   "version": "3.6.5"
  }
 },
 "nbformat": 4,
 "nbformat_minor": 2
}
